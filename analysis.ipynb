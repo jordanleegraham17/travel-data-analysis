{
 "cells": [
  {
   "cell_type": "markdown",
   "metadata": {},
   "source": [
    "# Analysis of travel dataset\n",
    "This dataset was acquired from Kaggle and is a randomly generated list of data and **not** collected from real world sources.\n",
    "[Dataset Credit: ](https://www.kaggle.com/datasets/rkiattisak/traveler-trip-data)\n",
    "\n",
    "**Goals:**\n",
    "1. Setup and Imports\n",
    "    - Will be using Pandas and numpy for handling data frames, other imports for graphs etc.,\n",
    "2. Load the dataset\n",
    "    - Into a pandas dataframe to have a look at it\n",
    "3. Explore Data\n",
    "    - Go through current dataframe do some exploratory analysis\n",
    "    - Think about any feature creation which could be included?\n",
    "4. Clean Data\n",
    "    - Remove anything we dont require and tidy text where possible\n",
    "5. Analysis of Data\n",
    "    - Perform some analysis on dataset"
   ]
  },
  {
   "cell_type": "markdown",
   "metadata": {},
   "source": [
    "## Setup"
   ]
  },
  {
   "cell_type": "code",
   "execution_count": 54,
   "metadata": {},
   "outputs": [],
   "source": [
    "## Imports\n",
    "import pandas as pd\n",
    "import numpy as np"
   ]
  },
  {
   "cell_type": "code",
   "execution_count": 55,
   "metadata": {},
   "outputs": [
    {
     "data": {
      "text/html": [
       "<div>\n",
       "<style scoped>\n",
       "    .dataframe tbody tr th:only-of-type {\n",
       "        vertical-align: middle;\n",
       "    }\n",
       "\n",
       "    .dataframe tbody tr th {\n",
       "        vertical-align: top;\n",
       "    }\n",
       "\n",
       "    .dataframe thead th {\n",
       "        text-align: right;\n",
       "    }\n",
       "</style>\n",
       "<table border=\"1\" class=\"dataframe\">\n",
       "  <thead>\n",
       "    <tr style=\"text-align: right;\">\n",
       "      <th></th>\n",
       "      <th>Trip ID</th>\n",
       "      <th>Destination</th>\n",
       "      <th>Start date</th>\n",
       "      <th>End date</th>\n",
       "      <th>Duration (days)</th>\n",
       "      <th>Traveler name</th>\n",
       "      <th>Traveler age</th>\n",
       "      <th>Traveler gender</th>\n",
       "      <th>Traveler nationality</th>\n",
       "      <th>Accommodation type</th>\n",
       "      <th>Accommodation cost</th>\n",
       "      <th>Transportation type</th>\n",
       "      <th>Transportation cost</th>\n",
       "    </tr>\n",
       "  </thead>\n",
       "  <tbody>\n",
       "    <tr>\n",
       "      <th>0</th>\n",
       "      <td>1</td>\n",
       "      <td>London, UK</td>\n",
       "      <td>5/1/2023</td>\n",
       "      <td>5/8/2023</td>\n",
       "      <td>7.0</td>\n",
       "      <td>John Smith</td>\n",
       "      <td>35.0</td>\n",
       "      <td>Male</td>\n",
       "      <td>American</td>\n",
       "      <td>Hotel</td>\n",
       "      <td>1200</td>\n",
       "      <td>Flight</td>\n",
       "      <td>600</td>\n",
       "    </tr>\n",
       "    <tr>\n",
       "      <th>1</th>\n",
       "      <td>2</td>\n",
       "      <td>Phuket, Thailand</td>\n",
       "      <td>6/15/2023</td>\n",
       "      <td>6/20/2023</td>\n",
       "      <td>5.0</td>\n",
       "      <td>Jane Doe</td>\n",
       "      <td>28.0</td>\n",
       "      <td>Female</td>\n",
       "      <td>Canadian</td>\n",
       "      <td>Resort</td>\n",
       "      <td>800</td>\n",
       "      <td>Flight</td>\n",
       "      <td>500</td>\n",
       "    </tr>\n",
       "    <tr>\n",
       "      <th>2</th>\n",
       "      <td>3</td>\n",
       "      <td>Bali, Indonesia</td>\n",
       "      <td>7/1/2023</td>\n",
       "      <td>7/8/2023</td>\n",
       "      <td>7.0</td>\n",
       "      <td>David Lee</td>\n",
       "      <td>45.0</td>\n",
       "      <td>Male</td>\n",
       "      <td>Korean</td>\n",
       "      <td>Villa</td>\n",
       "      <td>1000</td>\n",
       "      <td>Flight</td>\n",
       "      <td>700</td>\n",
       "    </tr>\n",
       "    <tr>\n",
       "      <th>3</th>\n",
       "      <td>4</td>\n",
       "      <td>New York, USA</td>\n",
       "      <td>8/15/2023</td>\n",
       "      <td>8/29/2023</td>\n",
       "      <td>14.0</td>\n",
       "      <td>Sarah Johnson</td>\n",
       "      <td>29.0</td>\n",
       "      <td>Female</td>\n",
       "      <td>British</td>\n",
       "      <td>Hotel</td>\n",
       "      <td>2000</td>\n",
       "      <td>Flight</td>\n",
       "      <td>1000</td>\n",
       "    </tr>\n",
       "    <tr>\n",
       "      <th>4</th>\n",
       "      <td>5</td>\n",
       "      <td>Tokyo, Japan</td>\n",
       "      <td>9/10/2023</td>\n",
       "      <td>9/17/2023</td>\n",
       "      <td>7.0</td>\n",
       "      <td>Kim Nguyen</td>\n",
       "      <td>26.0</td>\n",
       "      <td>Female</td>\n",
       "      <td>Vietnamese</td>\n",
       "      <td>Airbnb</td>\n",
       "      <td>700</td>\n",
       "      <td>Train</td>\n",
       "      <td>200</td>\n",
       "    </tr>\n",
       "  </tbody>\n",
       "</table>\n",
       "</div>"
      ],
      "text/plain": [
       "   Trip ID       Destination Start date   End date  Duration (days)  \\\n",
       "0        1        London, UK   5/1/2023   5/8/2023              7.0   \n",
       "1        2  Phuket, Thailand  6/15/2023  6/20/2023              5.0   \n",
       "2        3   Bali, Indonesia   7/1/2023   7/8/2023              7.0   \n",
       "3        4     New York, USA  8/15/2023  8/29/2023             14.0   \n",
       "4        5      Tokyo, Japan  9/10/2023  9/17/2023              7.0   \n",
       "\n",
       "   Traveler name  Traveler age Traveler gender Traveler nationality  \\\n",
       "0     John Smith          35.0            Male             American   \n",
       "1       Jane Doe          28.0          Female             Canadian   \n",
       "2      David Lee          45.0            Male               Korean   \n",
       "3  Sarah Johnson          29.0          Female              British   \n",
       "4     Kim Nguyen          26.0          Female           Vietnamese   \n",
       "\n",
       "  Accommodation type Accommodation cost Transportation type  \\\n",
       "0              Hotel               1200              Flight   \n",
       "1             Resort                800              Flight   \n",
       "2              Villa               1000              Flight   \n",
       "3              Hotel               2000              Flight   \n",
       "4             Airbnb                700               Train   \n",
       "\n",
       "  Transportation cost  \n",
       "0                 600  \n",
       "1                 500  \n",
       "2                 700  \n",
       "3                1000  \n",
       "4                 200  "
      ]
     },
     "execution_count": 55,
     "metadata": {},
     "output_type": "execute_result"
    }
   ],
   "source": [
    "# load data to dataframe\n",
    "file_path = \"Travel details dataset.csv\"\n",
    "travel_data = pd.read_csv(file_path)\n",
    "\n",
    "# check the dataframe is working\n",
    "travel_data.head()"
   ]
  },
  {
   "cell_type": "markdown",
   "metadata": {},
   "source": [
    "## Exploratory Analysis"
   ]
  },
  {
   "cell_type": "code",
   "execution_count": 56,
   "metadata": {},
   "outputs": [
    {
     "data": {
      "text/html": [
       "<div>\n",
       "<style scoped>\n",
       "    .dataframe tbody tr th:only-of-type {\n",
       "        vertical-align: middle;\n",
       "    }\n",
       "\n",
       "    .dataframe tbody tr th {\n",
       "        vertical-align: top;\n",
       "    }\n",
       "\n",
       "    .dataframe thead th {\n",
       "        text-align: right;\n",
       "    }\n",
       "</style>\n",
       "<table border=\"1\" class=\"dataframe\">\n",
       "  <thead>\n",
       "    <tr style=\"text-align: right;\">\n",
       "      <th></th>\n",
       "      <th>Trip ID</th>\n",
       "      <th>Destination</th>\n",
       "      <th>Start date</th>\n",
       "      <th>End date</th>\n",
       "      <th>Duration (days)</th>\n",
       "      <th>Traveler name</th>\n",
       "      <th>Traveler age</th>\n",
       "      <th>Traveler gender</th>\n",
       "      <th>Traveler nationality</th>\n",
       "      <th>Accommodation type</th>\n",
       "      <th>Accommodation cost</th>\n",
       "      <th>Transportation type</th>\n",
       "      <th>Transportation cost</th>\n",
       "    </tr>\n",
       "  </thead>\n",
       "  <tbody>\n",
       "    <tr>\n",
       "      <th>134</th>\n",
       "      <td>135</td>\n",
       "      <td>Rio de Janeiro, Brazil</td>\n",
       "      <td>8/1/2023</td>\n",
       "      <td>8/10/2023</td>\n",
       "      <td>9.0</td>\n",
       "      <td>Jose Perez</td>\n",
       "      <td>37.0</td>\n",
       "      <td>Male</td>\n",
       "      <td>Brazilian</td>\n",
       "      <td>Hostel</td>\n",
       "      <td>2500</td>\n",
       "      <td>Car</td>\n",
       "      <td>2000</td>\n",
       "    </tr>\n",
       "    <tr>\n",
       "      <th>135</th>\n",
       "      <td>136</td>\n",
       "      <td>Vancouver, Canada</td>\n",
       "      <td>8/15/2023</td>\n",
       "      <td>8/21/2023</td>\n",
       "      <td>6.0</td>\n",
       "      <td>Emma Wilson</td>\n",
       "      <td>29.0</td>\n",
       "      <td>Female</td>\n",
       "      <td>Canadian</td>\n",
       "      <td>Hotel</td>\n",
       "      <td>5000</td>\n",
       "      <td>Airplane</td>\n",
       "      <td>3000</td>\n",
       "    </tr>\n",
       "    <tr>\n",
       "      <th>136</th>\n",
       "      <td>137</td>\n",
       "      <td>Bangkok, Thailand</td>\n",
       "      <td>9/1/2023</td>\n",
       "      <td>9/8/2023</td>\n",
       "      <td>7.0</td>\n",
       "      <td>Ryan Chen</td>\n",
       "      <td>34.0</td>\n",
       "      <td>Male</td>\n",
       "      <td>Chinese</td>\n",
       "      <td>Hostel</td>\n",
       "      <td>2000</td>\n",
       "      <td>Train</td>\n",
       "      <td>1000</td>\n",
       "    </tr>\n",
       "    <tr>\n",
       "      <th>137</th>\n",
       "      <td>138</td>\n",
       "      <td>Barcelona, Spain</td>\n",
       "      <td>9/15/2023</td>\n",
       "      <td>9/22/2023</td>\n",
       "      <td>7.0</td>\n",
       "      <td>Sofia Rodriguez</td>\n",
       "      <td>25.0</td>\n",
       "      <td>Female</td>\n",
       "      <td>Spanish</td>\n",
       "      <td>Airbnb</td>\n",
       "      <td>6000</td>\n",
       "      <td>Airplane</td>\n",
       "      <td>2500</td>\n",
       "    </tr>\n",
       "    <tr>\n",
       "      <th>138</th>\n",
       "      <td>139</td>\n",
       "      <td>Auckland, New Zealand</td>\n",
       "      <td>10/1/2023</td>\n",
       "      <td>10/8/2023</td>\n",
       "      <td>7.0</td>\n",
       "      <td>William Brown</td>\n",
       "      <td>39.0</td>\n",
       "      <td>Male</td>\n",
       "      <td>New Zealander</td>\n",
       "      <td>Hotel</td>\n",
       "      <td>7000</td>\n",
       "      <td>Train</td>\n",
       "      <td>2500</td>\n",
       "    </tr>\n",
       "  </tbody>\n",
       "</table>\n",
       "</div>"
      ],
      "text/plain": [
       "     Trip ID             Destination Start date   End date  Duration (days)  \\\n",
       "134      135  Rio de Janeiro, Brazil   8/1/2023  8/10/2023              9.0   \n",
       "135      136       Vancouver, Canada  8/15/2023  8/21/2023              6.0   \n",
       "136      137       Bangkok, Thailand   9/1/2023   9/8/2023              7.0   \n",
       "137      138        Barcelona, Spain  9/15/2023  9/22/2023              7.0   \n",
       "138      139   Auckland, New Zealand  10/1/2023  10/8/2023              7.0   \n",
       "\n",
       "       Traveler name  Traveler age Traveler gender Traveler nationality  \\\n",
       "134       Jose Perez          37.0            Male            Brazilian   \n",
       "135      Emma Wilson          29.0          Female             Canadian   \n",
       "136        Ryan Chen          34.0            Male              Chinese   \n",
       "137  Sofia Rodriguez          25.0          Female              Spanish   \n",
       "138    William Brown          39.0            Male        New Zealander   \n",
       "\n",
       "    Accommodation type Accommodation cost Transportation type  \\\n",
       "134             Hostel               2500                 Car   \n",
       "135              Hotel               5000            Airplane   \n",
       "136             Hostel               2000               Train   \n",
       "137             Airbnb               6000            Airplane   \n",
       "138              Hotel               7000               Train   \n",
       "\n",
       "    Transportation cost  \n",
       "134                2000  \n",
       "135                3000  \n",
       "136                1000  \n",
       "137                2500  \n",
       "138                2500  "
      ]
     },
     "execution_count": 56,
     "metadata": {},
     "output_type": "execute_result"
    }
   ],
   "source": [
    "## check the last rows of data\n",
    "travel_data.tail()"
   ]
  },
  {
   "cell_type": "code",
   "execution_count": 57,
   "metadata": {},
   "outputs": [
    {
     "data": {
      "text/plain": [
       "(139, 13)"
      ]
     },
     "execution_count": 57,
     "metadata": {},
     "output_type": "execute_result"
    }
   ],
   "source": [
    "## check the size of the frame\n",
    "travel_data.shape"
   ]
  },
  {
   "cell_type": "code",
   "execution_count": 58,
   "metadata": {},
   "outputs": [
    {
     "data": {
      "text/plain": [
       "<bound method NDFrame.describe of      Trip ID             Destination Start date   End date  Duration (days)  \\\n",
       "0          1              London, UK   5/1/2023   5/8/2023              7.0   \n",
       "1          2        Phuket, Thailand  6/15/2023  6/20/2023              5.0   \n",
       "2          3         Bali, Indonesia   7/1/2023   7/8/2023              7.0   \n",
       "3          4           New York, USA  8/15/2023  8/29/2023             14.0   \n",
       "4          5            Tokyo, Japan  9/10/2023  9/17/2023              7.0   \n",
       "..       ...                     ...        ...        ...              ...   \n",
       "134      135  Rio de Janeiro, Brazil   8/1/2023  8/10/2023              9.0   \n",
       "135      136       Vancouver, Canada  8/15/2023  8/21/2023              6.0   \n",
       "136      137       Bangkok, Thailand   9/1/2023   9/8/2023              7.0   \n",
       "137      138        Barcelona, Spain  9/15/2023  9/22/2023              7.0   \n",
       "138      139   Auckland, New Zealand  10/1/2023  10/8/2023              7.0   \n",
       "\n",
       "       Traveler name  Traveler age Traveler gender Traveler nationality  \\\n",
       "0         John Smith          35.0            Male             American   \n",
       "1           Jane Doe          28.0          Female             Canadian   \n",
       "2          David Lee          45.0            Male               Korean   \n",
       "3      Sarah Johnson          29.0          Female              British   \n",
       "4         Kim Nguyen          26.0          Female           Vietnamese   \n",
       "..               ...           ...             ...                  ...   \n",
       "134       Jose Perez          37.0            Male            Brazilian   \n",
       "135      Emma Wilson          29.0          Female             Canadian   \n",
       "136        Ryan Chen          34.0            Male              Chinese   \n",
       "137  Sofia Rodriguez          25.0          Female              Spanish   \n",
       "138    William Brown          39.0            Male        New Zealander   \n",
       "\n",
       "    Accommodation type Accommodation cost Transportation type  \\\n",
       "0                Hotel               1200              Flight   \n",
       "1               Resort                800              Flight   \n",
       "2                Villa               1000              Flight   \n",
       "3                Hotel               2000              Flight   \n",
       "4               Airbnb                700               Train   \n",
       "..                 ...                ...                 ...   \n",
       "134             Hostel               2500                 Car   \n",
       "135              Hotel               5000            Airplane   \n",
       "136             Hostel               2000               Train   \n",
       "137             Airbnb               6000            Airplane   \n",
       "138              Hotel               7000               Train   \n",
       "\n",
       "    Transportation cost  \n",
       "0                   600  \n",
       "1                   500  \n",
       "2                   700  \n",
       "3                  1000  \n",
       "4                   200  \n",
       "..                  ...  \n",
       "134                2000  \n",
       "135                3000  \n",
       "136                1000  \n",
       "137                2500  \n",
       "138                2500  \n",
       "\n",
       "[139 rows x 13 columns]>"
      ]
     },
     "execution_count": 58,
     "metadata": {},
     "output_type": "execute_result"
    }
   ],
   "source": [
    "## data decription\n",
    "travel_data.describe"
   ]
  },
  {
   "cell_type": "code",
   "execution_count": 59,
   "metadata": {},
   "outputs": [
    {
     "data": {
      "text/plain": [
       "Trip ID                 0\n",
       "Destination             2\n",
       "Start date              2\n",
       "End date                2\n",
       "Duration (days)         2\n",
       "Traveler name           2\n",
       "Traveler age            2\n",
       "Traveler gender         2\n",
       "Traveler nationality    2\n",
       "Accommodation type      2\n",
       "Accommodation cost      2\n",
       "Transportation type     3\n",
       "Transportation cost     3\n",
       "dtype: int64"
      ]
     },
     "execution_count": 59,
     "metadata": {},
     "output_type": "execute_result"
    }
   ],
   "source": [
    "## check for null values\n",
    "travel_data.isnull().sum()"
   ]
  },
  {
   "cell_type": "code",
   "execution_count": 60,
   "metadata": {},
   "outputs": [
    {
     "data": {
      "text/plain": [
       "Destination\n",
       "Paris            7\n",
       "Bali             7\n",
       "Tokyo, Japan     7\n",
       "Paris, France    7\n",
       "Tokyo            5\n",
       "Name: count, dtype: int64"
      ]
     },
     "execution_count": 60,
     "metadata": {},
     "output_type": "execute_result"
    }
   ],
   "source": [
    "## check top 5 destinations\n",
    "travel_data['Destination'].value_counts()[0:5]"
   ]
  },
  {
   "cell_type": "code",
   "execution_count": 61,
   "metadata": {},
   "outputs": [
    {
     "data": {
      "text/plain": [
       "Traveler nationality\n",
       "American      24\n",
       "Korean        13\n",
       "British       12\n",
       "Canadian       9\n",
       "Australian     8\n",
       "Name: count, dtype: int64"
      ]
     },
     "execution_count": 61,
     "metadata": {},
     "output_type": "execute_result"
    }
   ],
   "source": [
    "## checking the top 5 nationalities\n",
    "travel_data['Traveler nationality'].value_counts()[0:5]"
   ]
  },
  {
   "cell_type": "code",
   "execution_count": 62,
   "metadata": {},
   "outputs": [
    {
     "data": {
      "text/plain": [
       "Accommodation cost\n",
       "1200       7\n",
       "900        7\n",
       "800        7\n",
       "1000       6\n",
       "1500       5\n",
       "$500       5\n",
       "$1,200     5\n",
       "$600       4\n",
       "500        4\n",
       "$800       4\n",
       "Name: count, dtype: int64"
      ]
     },
     "execution_count": 62,
     "metadata": {},
     "output_type": "execute_result"
    }
   ],
   "source": [
    "## checking accomadation cost as some of the values looked different when checking the csv\n",
    "travel_data['Accommodation cost'].value_counts()[0:10]"
   ]
  },
  {
   "cell_type": "code",
   "execution_count": 63,
   "metadata": {},
   "outputs": [
    {
     "data": {
      "text/plain": [
       "array(['Flight', 'Train', 'Plane', 'Bus', 'Car rental', 'Subway', nan,\n",
       "       'Car', 'Ferry', 'Airplane'], dtype=object)"
      ]
     },
     "execution_count": 63,
     "metadata": {},
     "output_type": "execute_result"
    }
   ],
   "source": [
    "## check the transportation type to see if it needs tidying\n",
    "travel_data['Transportation type'].unique()"
   ]
  },
  {
   "cell_type": "markdown",
   "metadata": {},
   "source": [
    "## Clean Data\n",
    "- Remove the few null values found in exploration\n",
    "- keep consistency with the 'Accommodation cost' and 'Transport cost' fields as some values contain a dollar sign $ and some dont..\n",
    "- Some duplicate / same destination names found when performing value counts i.e. destination = a. paris & b. paris, france => being different\n",
    "- duplicate 'transportation' types such as 'airplane' 'plane' and 'flight' all meaning the same thing"
   ]
  },
  {
   "cell_type": "code",
   "execution_count": 64,
   "metadata": {},
   "outputs": [
    {
     "data": {
      "text/plain": [
       "(136, 13)"
      ]
     },
     "execution_count": 64,
     "metadata": {},
     "output_type": "execute_result"
    }
   ],
   "source": [
    "# removing null values - happy to use dropna() as it only remvoes 3 rows\n",
    "travel_data = travel_data.dropna()\n",
    "travel_data.shape"
   ]
  },
  {
   "cell_type": "code",
   "execution_count": 65,
   "metadata": {},
   "outputs": [
    {
     "name": "stderr",
     "output_type": "stream",
     "text": [
      "C:\\Users\\jorda\\AppData\\Local\\Temp\\ipykernel_16448\\2194180787.py:2: SettingWithCopyWarning: \n",
      "A value is trying to be set on a copy of a slice from a DataFrame.\n",
      "Try using .loc[row_indexer,col_indexer] = value instead\n",
      "\n",
      "See the caveats in the documentation: https://pandas.pydata.org/pandas-docs/stable/user_guide/indexing.html#returning-a-view-versus-a-copy\n",
      "  travel_data['Accommodation cost'] = travel_data['Accommodation cost']\\\n"
     ]
    },
    {
     "data": {
      "text/plain": [
       "Accommodation cost\n",
       "1200    14\n",
       "800     14\n",
       "900     13\n",
       "1000    11\n",
       "500     11\n",
       "400     10\n",
       "700      8\n",
       "1500     8\n",
       "600      7\n",
       "300      4\n",
       "Name: count, dtype: int64"
      ]
     },
     "execution_count": 65,
     "metadata": {},
     "output_type": "execute_result"
    }
   ],
   "source": [
    "## get rid of dollar symbols and commas in the 'cost' fields and making sure its type int\n",
    "travel_data['Accommodation cost'] = travel_data['Accommodation cost']\\\n",
    "                                    .str.replace('$','')\\\n",
    "                                    .str.replace(',','')\\\n",
    "                                    .str.replace(' ','')\\\n",
    "                                    .str.replace('USD','')\\\n",
    "                                    .astype(int)\n",
    "\n",
    "# cehcking if this made a difference to the counts from earliers exploratory analysis\n",
    "travel_data['Accommodation cost'].value_counts()[0:10]"
   ]
  },
  {
   "cell_type": "code",
   "execution_count": 66,
   "metadata": {},
   "outputs": [
    {
     "name": "stderr",
     "output_type": "stream",
     "text": [
      "C:\\Users\\jorda\\AppData\\Local\\Temp\\ipykernel_16448\\3210725342.py:2: SettingWithCopyWarning: \n",
      "A value is trying to be set on a copy of a slice from a DataFrame.\n",
      "Try using .loc[row_indexer,col_indexer] = value instead\n",
      "\n",
      "See the caveats in the documentation: https://pandas.pydata.org/pandas-docs/stable/user_guide/indexing.html#returning-a-view-versus-a-copy\n",
      "  travel_data['Transportation cost'] = travel_data['Transportation cost']\\\n"
     ]
    },
    {
     "data": {
      "text/plain": [
       "Transportation cost\n",
       "800     16\n",
       "700     15\n",
       "500     11\n",
       "150     11\n",
       "100     10\n",
       "200     10\n",
       "600      9\n",
       "300      9\n",
       "1000     8\n",
       "400      7\n",
       "Name: count, dtype: int64"
      ]
     },
     "execution_count": 66,
     "metadata": {},
     "output_type": "execute_result"
    }
   ],
   "source": [
    "## get rid of dollar symbols, comma, spaces and 'USD' text from the 'Travel cost' field\n",
    "travel_data['Transportation cost'] = travel_data['Transportation cost']\\\n",
    "                                    .str.replace('$','')\\\n",
    "                                    .str.replace(',','')\\\n",
    "                                    .str.replace(' ','')\\\n",
    "                                    .str.replace('USD','')\\\n",
    "                                    .astype(int)\n",
    "\n",
    "# cehcking if this made a difference to the counts from earliers exploratory analysis\n",
    "travel_data['Transportation cost'].value_counts()[0:10]"
   ]
  },
  {
   "cell_type": "code",
   "execution_count": 67,
   "metadata": {},
   "outputs": [
    {
     "name": "stdout",
     "output_type": "stream",
     "text": [
      "     Trip ID             Destination Start date   End date  Duration (days)  \\\n",
      "0          1              London, UK   5/1/2023   5/8/2023              7.0   \n",
      "1          2        Phuket, Thailand  6/15/2023  6/20/2023              5.0   \n",
      "2          3         Bali, Indonesia   7/1/2023   7/8/2023              7.0   \n",
      "3          4           New York, USA  8/15/2023  8/29/2023             14.0   \n",
      "4          5            Tokyo, Japan  9/10/2023  9/17/2023              7.0   \n",
      "..       ...                     ...        ...        ...              ...   \n",
      "134      135  Rio de Janeiro, Brazil   8/1/2023  8/10/2023              9.0   \n",
      "135      136       Vancouver, Canada  8/15/2023  8/21/2023              6.0   \n",
      "136      137       Bangkok, Thailand   9/1/2023   9/8/2023              7.0   \n",
      "137      138        Barcelona, Spain  9/15/2023  9/22/2023              7.0   \n",
      "138      139   Auckland, New Zealand  10/1/2023  10/8/2023              7.0   \n",
      "\n",
      "       Traveler name  Traveler age Traveler gender Traveler nationality  \\\n",
      "0         John Smith          35.0            Male             American   \n",
      "1           Jane Doe          28.0          Female             Canadian   \n",
      "2          David Lee          45.0            Male               Korean   \n",
      "3      Sarah Johnson          29.0          Female              British   \n",
      "4         Kim Nguyen          26.0          Female           Vietnamese   \n",
      "..               ...           ...             ...                  ...   \n",
      "134       Jose Perez          37.0            Male            Brazilian   \n",
      "135      Emma Wilson          29.0          Female             Canadian   \n",
      "136        Ryan Chen          34.0            Male              Chinese   \n",
      "137  Sofia Rodriguez          25.0          Female              Spanish   \n",
      "138    William Brown          39.0            Male        New Zealander   \n",
      "\n",
      "    Accommodation type  Accommodation cost Transportation type  \\\n",
      "0                Hotel                1200              Flight   \n",
      "1               Resort                 800              Flight   \n",
      "2                Villa                1000              Flight   \n",
      "3                Hotel                2000              Flight   \n",
      "4               Airbnb                 700               Train   \n",
      "..                 ...                 ...                 ...   \n",
      "134             Hostel                2500                 Car   \n",
      "135              Hotel                5000            Airplane   \n",
      "136             Hostel                2000               Train   \n",
      "137             Airbnb                6000            Airplane   \n",
      "138              Hotel                7000               Train   \n",
      "\n",
      "     Transportation cost            City  \n",
      "0                    600          London  \n",
      "1                    500          Phuket  \n",
      "2                    700            Bali  \n",
      "3                   1000        New York  \n",
      "4                    200           Tokyo  \n",
      "..                   ...             ...  \n",
      "134                 2000  Rio de Janeiro  \n",
      "135                 3000       Vancouver  \n",
      "136                 1000         Bangkok  \n",
      "137                 2500       Barcelona  \n",
      "138                 2500        Auckland  \n",
      "\n",
      "[136 rows x 14 columns]\n"
     ]
    },
    {
     "name": "stderr",
     "output_type": "stream",
     "text": [
      "C:\\Users\\jorda\\AppData\\Local\\Temp\\ipykernel_16448\\3466460753.py:3: SettingWithCopyWarning: \n",
      "A value is trying to be set on a copy of a slice from a DataFrame.\n",
      "Try using .loc[row_indexer,col_indexer] = value instead\n",
      "\n",
      "See the caveats in the documentation: https://pandas.pydata.org/pandas-docs/stable/user_guide/indexing.html#returning-a-view-versus-a-copy\n",
      "  travel_data['City'] = travel_data['Destination'].str.extract(r'(^[^,]+)', expand = False)\n"
     ]
    }
   ],
   "source": [
    "## tidying destination names using regular expression\n",
    "# making a new column 'City' as I might add the country later and check by same destination > different city etc..,\n",
    "travel_data['City'] = travel_data['Destination'].str.extract(r'(^[^,]+)', expand = False)\n",
    "print(travel_data)"
   ]
  },
  {
   "cell_type": "code",
   "execution_count": 68,
   "metadata": {},
   "outputs": [
    {
     "name": "stdout",
     "output_type": "stream",
     "text": [
      "0              London\n",
      "1              Phuket\n",
      "2                Bali\n",
      "3            New York\n",
      "4               Tokyo\n",
      "            ...      \n",
      "134    Rio de Janeiro\n",
      "135         Vancouver\n",
      "136           Bangkok\n",
      "137         Barcelona\n",
      "138          Auckland\n",
      "Name: City, Length: 136, dtype: object\n"
     ]
    }
   ],
   "source": [
    "## checking 'city exclusively\n",
    "print(travel_data['City'])"
   ]
  },
  {
   "cell_type": "code",
   "execution_count": 69,
   "metadata": {},
   "outputs": [
    {
     "name": "stderr",
     "output_type": "stream",
     "text": [
      "C:\\Users\\jorda\\AppData\\Local\\Temp\\ipykernel_16448\\2460966835.py:10: SettingWithCopyWarning: \n",
      "A value is trying to be set on a copy of a slice from a DataFrame.\n",
      "Try using .loc[row_indexer,col_indexer] = value instead\n",
      "\n",
      "See the caveats in the documentation: https://pandas.pydata.org/pandas-docs/stable/user_guide/indexing.html#returning-a-view-versus-a-copy\n",
      "  travel_data['Transportation type'] = travel_data['Transportation type'].replace(replacements, regex = True)\n"
     ]
    },
    {
     "data": {
      "text/plain": [
       "array(['Airplane', 'Train', 'Bus', 'Car rental', 'Subway', 'Car', 'Ferry'],\n",
       "      dtype=object)"
      ]
     },
     "execution_count": 69,
     "metadata": {},
     "output_type": "execute_result"
    }
   ],
   "source": [
    "## tidying the 'Transportation type' column to have consistent values\n",
    "\n",
    "# having issues altering the flight values using .replace so trying using a dictionary\n",
    "replacements = {\n",
    "    'Flight':'Airplane',\n",
    "    'Plane':'Airplane'\n",
    "}\n",
    "\n",
    "# using .replace with the dictionary instead\n",
    "travel_data['Transportation type'] = travel_data['Transportation type'].replace(replacements, regex = True)\n",
    "travel_data['Transportation type'].unique()"
   ]
  },
  {
   "cell_type": "markdown",
   "metadata": {},
   "source": [
    "### Saving clean data to a new csv to work from"
   ]
  },
  {
   "cell_type": "code",
   "execution_count": 70,
   "metadata": {},
   "outputs": [],
   "source": [
    "# Saving cleaned data to CSV - commented out in case of rerun\n",
    "#travel_data.to_csv('travel_details_dataset_cleaned.csv', index = False)"
   ]
  },
  {
   "cell_type": "markdown",
   "metadata": {},
   "source": [
    "## Data Analysis\n",
    "- General stats\n",
    "- Average cost of accommodation and transportation\n",
    "- Top cities that were visited\n",
    "- Distribution of age\n",
    "- Most common cities"
   ]
  },
  {
   "cell_type": "code",
   "execution_count": 71,
   "metadata": {},
   "outputs": [
    {
     "name": "stdout",
     "output_type": "stream",
     "text": [
      "Requirement already satisfied: matplotlib in c:\\users\\jorda\\appdata\\local\\programs\\python\\python312\\lib\\site-packages (3.9.0)\n",
      "Requirement already satisfied: seaborn in c:\\users\\jorda\\appdata\\local\\programs\\python\\python312\\lib\\site-packages (0.13.2)\n",
      "Requirement already satisfied: contourpy>=1.0.1 in c:\\users\\jorda\\appdata\\local\\programs\\python\\python312\\lib\\site-packages (from matplotlib) (1.2.1)\n",
      "Requirement already satisfied: cycler>=0.10 in c:\\users\\jorda\\appdata\\local\\programs\\python\\python312\\lib\\site-packages (from matplotlib) (0.12.1)\n",
      "Requirement already satisfied: fonttools>=4.22.0 in c:\\users\\jorda\\appdata\\local\\programs\\python\\python312\\lib\\site-packages (from matplotlib) (4.52.4)\n",
      "Requirement already satisfied: kiwisolver>=1.3.1 in c:\\users\\jorda\\appdata\\local\\programs\\python\\python312\\lib\\site-packages (from matplotlib) (1.4.5)\n",
      "Requirement already satisfied: numpy>=1.23 in c:\\users\\jorda\\appdata\\local\\programs\\python\\python312\\lib\\site-packages (from matplotlib) (1.26.3)\n",
      "Requirement already satisfied: packaging>=20.0 in c:\\users\\jorda\\appdata\\roaming\\python\\python312\\site-packages (from matplotlib) (23.2)\n",
      "Requirement already satisfied: pillow>=8 in c:\\users\\jorda\\appdata\\local\\programs\\python\\python312\\lib\\site-packages (from matplotlib) (10.3.0)\n",
      "Requirement already satisfied: pyparsing>=2.3.1 in c:\\users\\jorda\\appdata\\local\\programs\\python\\python312\\lib\\site-packages (from matplotlib) (3.1.2)\n",
      "Requirement already satisfied: python-dateutil>=2.7 in c:\\users\\jorda\\appdata\\roaming\\python\\python312\\site-packages (from matplotlib) (2.8.2)\n",
      "Requirement already satisfied: pandas>=1.2 in c:\\users\\jorda\\appdata\\local\\programs\\python\\python312\\lib\\site-packages (from seaborn) (2.1.4)\n",
      "Requirement already satisfied: pytz>=2020.1 in c:\\users\\jorda\\appdata\\local\\programs\\python\\python312\\lib\\site-packages (from pandas>=1.2->seaborn) (2023.3.post1)\n",
      "Requirement already satisfied: tzdata>=2022.1 in c:\\users\\jorda\\appdata\\local\\programs\\python\\python312\\lib\\site-packages (from pandas>=1.2->seaborn) (2023.4)\n",
      "Requirement already satisfied: six>=1.5 in c:\\users\\jorda\\appdata\\roaming\\python\\python312\\site-packages (from python-dateutil>=2.7->matplotlib) (1.16.0)\n"
     ]
    },
    {
     "name": "stderr",
     "output_type": "stream",
     "text": [
      "\n",
      "[notice] A new release of pip is available: 23.3.2 -> 24.0\n",
      "[notice] To update, run: python.exe -m pip install --upgrade pip\n"
     ]
    }
   ],
   "source": [
    "# imports for analysis phase\n",
    "!pip install matplotlib seaborn\n",
    "import matplotlib.pyplot as plt\n",
    "import seaborn as sns"
   ]
  },
  {
   "cell_type": "code",
   "execution_count": 72,
   "metadata": {},
   "outputs": [
    {
     "data": {
      "text/html": [
       "<div>\n",
       "<style scoped>\n",
       "    .dataframe tbody tr th:only-of-type {\n",
       "        vertical-align: middle;\n",
       "    }\n",
       "\n",
       "    .dataframe tbody tr th {\n",
       "        vertical-align: top;\n",
       "    }\n",
       "\n",
       "    .dataframe thead th {\n",
       "        text-align: right;\n",
       "    }\n",
       "</style>\n",
       "<table border=\"1\" class=\"dataframe\">\n",
       "  <thead>\n",
       "    <tr style=\"text-align: right;\">\n",
       "      <th></th>\n",
       "      <th>Trip ID</th>\n",
       "      <th>Destination</th>\n",
       "      <th>Start date</th>\n",
       "      <th>End date</th>\n",
       "      <th>Duration (days)</th>\n",
       "      <th>Traveler name</th>\n",
       "      <th>Traveler age</th>\n",
       "      <th>Traveler gender</th>\n",
       "      <th>Traveler nationality</th>\n",
       "      <th>Accommodation type</th>\n",
       "      <th>Accommodation cost</th>\n",
       "      <th>Transportation type</th>\n",
       "      <th>Transportation cost</th>\n",
       "      <th>City</th>\n",
       "    </tr>\n",
       "  </thead>\n",
       "  <tbody>\n",
       "    <tr>\n",
       "      <th>0</th>\n",
       "      <td>1</td>\n",
       "      <td>London, UK</td>\n",
       "      <td>5/1/2023</td>\n",
       "      <td>5/8/2023</td>\n",
       "      <td>7.0</td>\n",
       "      <td>John Smith</td>\n",
       "      <td>35.0</td>\n",
       "      <td>Male</td>\n",
       "      <td>American</td>\n",
       "      <td>Hotel</td>\n",
       "      <td>1200</td>\n",
       "      <td>Airplane</td>\n",
       "      <td>600</td>\n",
       "      <td>London</td>\n",
       "    </tr>\n",
       "    <tr>\n",
       "      <th>1</th>\n",
       "      <td>2</td>\n",
       "      <td>Phuket, Thailand</td>\n",
       "      <td>6/15/2023</td>\n",
       "      <td>6/20/2023</td>\n",
       "      <td>5.0</td>\n",
       "      <td>Jane Doe</td>\n",
       "      <td>28.0</td>\n",
       "      <td>Female</td>\n",
       "      <td>Canadian</td>\n",
       "      <td>Resort</td>\n",
       "      <td>800</td>\n",
       "      <td>Airplane</td>\n",
       "      <td>500</td>\n",
       "      <td>Phuket</td>\n",
       "    </tr>\n",
       "    <tr>\n",
       "      <th>2</th>\n",
       "      <td>3</td>\n",
       "      <td>Bali, Indonesia</td>\n",
       "      <td>7/1/2023</td>\n",
       "      <td>7/8/2023</td>\n",
       "      <td>7.0</td>\n",
       "      <td>David Lee</td>\n",
       "      <td>45.0</td>\n",
       "      <td>Male</td>\n",
       "      <td>Korean</td>\n",
       "      <td>Villa</td>\n",
       "      <td>1000</td>\n",
       "      <td>Airplane</td>\n",
       "      <td>700</td>\n",
       "      <td>Bali</td>\n",
       "    </tr>\n",
       "    <tr>\n",
       "      <th>3</th>\n",
       "      <td>4</td>\n",
       "      <td>New York, USA</td>\n",
       "      <td>8/15/2023</td>\n",
       "      <td>8/29/2023</td>\n",
       "      <td>14.0</td>\n",
       "      <td>Sarah Johnson</td>\n",
       "      <td>29.0</td>\n",
       "      <td>Female</td>\n",
       "      <td>British</td>\n",
       "      <td>Hotel</td>\n",
       "      <td>2000</td>\n",
       "      <td>Airplane</td>\n",
       "      <td>1000</td>\n",
       "      <td>New York</td>\n",
       "    </tr>\n",
       "    <tr>\n",
       "      <th>4</th>\n",
       "      <td>5</td>\n",
       "      <td>Tokyo, Japan</td>\n",
       "      <td>9/10/2023</td>\n",
       "      <td>9/17/2023</td>\n",
       "      <td>7.0</td>\n",
       "      <td>Kim Nguyen</td>\n",
       "      <td>26.0</td>\n",
       "      <td>Female</td>\n",
       "      <td>Vietnamese</td>\n",
       "      <td>Airbnb</td>\n",
       "      <td>700</td>\n",
       "      <td>Train</td>\n",
       "      <td>200</td>\n",
       "      <td>Tokyo</td>\n",
       "    </tr>\n",
       "  </tbody>\n",
       "</table>\n",
       "</div>"
      ],
      "text/plain": [
       "   Trip ID       Destination Start date   End date  Duration (days)  \\\n",
       "0        1        London, UK   5/1/2023   5/8/2023              7.0   \n",
       "1        2  Phuket, Thailand  6/15/2023  6/20/2023              5.0   \n",
       "2        3   Bali, Indonesia   7/1/2023   7/8/2023              7.0   \n",
       "3        4     New York, USA  8/15/2023  8/29/2023             14.0   \n",
       "4        5      Tokyo, Japan  9/10/2023  9/17/2023              7.0   \n",
       "\n",
       "   Traveler name  Traveler age Traveler gender Traveler nationality  \\\n",
       "0     John Smith          35.0            Male             American   \n",
       "1       Jane Doe          28.0          Female             Canadian   \n",
       "2      David Lee          45.0            Male               Korean   \n",
       "3  Sarah Johnson          29.0          Female              British   \n",
       "4     Kim Nguyen          26.0          Female           Vietnamese   \n",
       "\n",
       "  Accommodation type  Accommodation cost Transportation type  \\\n",
       "0              Hotel                1200            Airplane   \n",
       "1             Resort                 800            Airplane   \n",
       "2              Villa                1000            Airplane   \n",
       "3              Hotel                2000            Airplane   \n",
       "4             Airbnb                 700               Train   \n",
       "\n",
       "   Transportation cost      City  \n",
       "0                  600    London  \n",
       "1                  500    Phuket  \n",
       "2                  700      Bali  \n",
       "3                 1000  New York  \n",
       "4                  200     Tokyo  "
      ]
     },
     "execution_count": 72,
     "metadata": {},
     "output_type": "execute_result"
    }
   ],
   "source": [
    "# load data to dataframe\n",
    "file_path = \"travel_details_dataset_cleaned.csv\"\n",
    "travel_data = pd.read_csv(file_path)\n",
    "\n",
    "# check the dataframe is working\n",
    "travel_data.head()"
   ]
  },
  {
   "cell_type": "markdown",
   "metadata": {},
   "source": [
    "### Stats"
   ]
  },
  {
   "cell_type": "code",
   "execution_count": 73,
   "metadata": {},
   "outputs": [
    {
     "name": "stdout",
     "output_type": "stream",
     "text": [
      "___ACCOMMODATION STATS___\n",
      "mean: 1253.5294117647059\n",
      "median: 900.0\n",
      "mode: 0     800\n",
      "1    1200\n",
      "Name: Accommodation cost, dtype: int64\n",
      "___TRANSPORTATION STATS___\n",
      "mean: 645.1838235294117\n",
      "median: 550.0\n",
      "mode: 0    800\n",
      "Name: Transportation cost, dtype: int64\n"
     ]
    }
   ],
   "source": [
    "# calculating the mean median and mode for the accommodation\n",
    "mean_accommodation_cost = travel_data['Accommodation cost'].mean()\n",
    "median_accommodation_cost = travel_data['Accommodation cost'].median()\n",
    "mode_accommodation_cost = travel_data['Accommodation cost'].mode()\n",
    "\n",
    "print(\"___ACCOMMODATION STATS___\")\n",
    "print(\"mean:\", mean_accommodation_cost)\n",
    "print(\"median:\",median_accommodation_cost)\n",
    "print(\"mode:\",mode_accommodation_cost)\n",
    "\n",
    "# and transportation costs\n",
    "mean_transportation_cost = travel_data['Transportation cost'].mean()\n",
    "median_transportation_cost = travel_data['Transportation cost'].median()\n",
    "mode_transportation_cost = travel_data['Transportation cost'].mode()\n",
    "\n",
    "print(\"___TRANSPORTATION STATS___\")\n",
    "print(\"mean:\", mean_transportation_cost)\n",
    "print(\"median:\",median_transportation_cost)\n",
    "print(\"mode:\",mode_transportation_cost)"
   ]
  },
  {
   "cell_type": "markdown",
   "metadata": {},
   "source": [
    "### Average cost of accommodation and transportation"
   ]
  },
  {
   "cell_type": "code",
   "execution_count": 74,
   "metadata": {},
   "outputs": [
    {
     "data": {
      "image/png": "[encoded data removed]",
      "text/plain": [
       "<Figure size 640x480 with 1 Axes>"
      ]
     },
     "metadata": {},
     "output_type": "display_data"
    }
   ],
   "source": [
    "# using the mean to show averages of accom and transport costs\n",
    "categories = ['Accommodation cost','Transportation cost']\n",
    "mean_costs = [mean_accommodation_cost, mean_transportation_cost]\n",
    "\n",
    "# creating bar plt\n",
    "plt.bar(categories, mean_costs, color=['#eb676d','#4e6659'])\n",
    "plt.title('average cost of accommodation vs transportation')\n",
    "plt.ylabel('Average Cost')\n",
    "plt.show()"
   ]
  },
  {
   "cell_type": "markdown",
   "metadata": {},
   "source": [
    "### Top Cities"
   ]
  },
  {
   "cell_type": "code",
   "execution_count": 75,
   "metadata": {},
   "outputs": [
    {
     "data": {
      "image/png": "[encoded data removed]",
      "text/plain": [
       "<Figure size 1400x700 with 1 Axes>"
      ]
     },
     "metadata": {},
     "output_type": "display_data"
    }
   ],
   "source": [
    "# getting counts for top cities, using value_counts()\n",
    "city_count = travel_data['City'].value_counts().head(10)\n",
    "\n",
    "# plot for top city counts\n",
    "plt.figure(figsize=(14, 7))\n",
    "plt.bar(city_count.index, city_count.values, color='#4e6659')\n",
    "plt.title('Top 10 Cities')\n",
    "plt.xlabel('City')\n",
    "plt.ylabel('Visits')\n",
    "plt.show()\n"
   ]
  },
  {
   "cell_type": "markdown",
   "metadata": {},
   "source": [
    "### Distribution of age\n"
   ]
  },
  {
   "cell_type": "code",
   "execution_count": 76,
   "metadata": {},
   "outputs": [
    {
     "data": {
      "image/png": "[encoded data removed]",
      "text/plain": [
       "<Figure size 800x600 with 1 Axes>"
      ]
     },
     "metadata": {},
     "output_type": "display_data"
    }
   ],
   "source": [
    "plt.figure(figsize=(8,6))\n",
    "\n",
    "plt.hist(travel_data['Traveler age'], bins=20, color='#4e6659', edgecolor='#0b1119')\n",
    "plt.title('Distribution of age')\n",
    "plt.xlabel('Age')\n",
    "plt.ylabel('Count')\n",
    "plt.show()"
   ]
  },
  {
   "cell_type": "markdown",
   "metadata": {},
   "source": [
    "### Accommodation vs City"
   ]
  },
  {
   "cell_type": "code",
   "execution_count": 77,
   "metadata": {},
   "outputs": [
    {
     "data": {
      "image/png": "[encoded data removed]",
      "text/plain": [
       "<Figure size 800x600 with 1 Axes>"
      ]
     },
     "metadata": {},
     "output_type": "display_data"
    }
   ],
   "source": [
    "# scatter plot for duration vs cost of accommodation\n",
    "plt.figure(figsize=(8,6))\n",
    "\n",
    "plt.scatter(travel_data['Duration (days)'], travel_data['Accommodation cost'], color='#eb676d')\n",
    "plt.title('trip duration vs accommodation cost')\n",
    "plt.xlabel('Duration')\n",
    "plt.ylabel('Accommodation cost')\n",
    "plt.show()\n",
    "\n"
   ]
  },
  {
   "cell_type": "code",
   "execution_count": 78,
   "metadata": {},
   "outputs": [
    {
     "data": {
      "image/png": "[encoded data removed]",
      "text/plain": [
       "<Figure size 800x600 with 1 Axes>"
      ]
     },
     "metadata": {},
     "output_type": "display_data"
    }
   ],
   "source": [
    "# scatter plot for duration vs cost of accommodation\n",
    "plt.figure(figsize=(8,6))\n",
    "\n",
    "plt.scatter(travel_data['Traveler age'], travel_data['City'], color='#4e6659')\n",
    "plt.title('Traveler age vs City')\n",
    "plt.xlabel('Age')\n",
    "plt.ylabel('City')\n",
    "plt.show()"
   ]
  },
  {
   "cell_type": "code",
   "execution_count": 79,
   "metadata": {},
   "outputs": [
    {
     "data": {
      "image/png": "[encoded data removed]",
      "text/plain": [
       "<Figure size 800x600 with 1 Axes>"
      ]
     },
     "metadata": {},
     "output_type": "display_data"
    }
   ],
   "source": [
    "# scatter plot for age vs city\n",
    "plt.figure(figsize=(8,6))\n",
    "\n",
    "plt.scatter(travel_data['Traveler age'], travel_data['Accommodation cost'], color='#eb676d')\n",
    "plt.title('Traveler age vs accommodation cost')\n",
    "plt.xlabel('Age')\n",
    "plt.ylabel('Accommodation cost')\n",
    "plt.show()"
   ]
  }
 ],
 "metadata": {
  "kernelspec": {
   "display_name": "Python 3",
   "language": "python",
   "name": "python3"
  },
  "language_info": {
   "codemirror_mode": {
    "name": "ipython",
    "version": 3
   },
   "file_extension": ".py",
   "mimetype": "text/x-python",
   "name": "python",
   "nbconvert_exporter": "python",
   "pygments_lexer": "ipython3",
   "version": "3.12.1"
  }
 },
 "nbformat": 4,
 "nbformat_minor": 2
}
